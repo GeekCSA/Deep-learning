{
 "cells": [
  {
   "cell_type": "markdown",
   "metadata": {},
   "source": [
    "Ariel university\n",
    "\n",
    "<h3><center>Course name: Deep learning and natural language processing</center></h3>\n",
    "\n",
    "Course number: 7061510-1\n",
    "\n",
    "Lecturer: Dr. Amos Azaria\n",
    "\n",
    "The editor: Moshe Hanukoglu\n",
    "\n",
    "Date: First Semester 2018-2019"
   ]
  },
  {
   "cell_type": "markdown",
   "metadata": {},
   "source": [
    "# TensorFlow"
   ]
  },
  {
   "cell_type": "markdown",
   "metadata": {},
   "source": [
    "<a id='contents'></a>\n",
    "### Table of contents\n",
    "* [Constants](#constants)\n",
    "* [Variables](#variables)\n",
    "    * [Simple Counting Program](#simple_counting_program)\n",
    "* [Defenitions](#defenitions)\n",
    "    * [Learning What Numbers Were Noisily Multiplied by](#learning_what_numbers_were_noisily_multiplied_by)\n",
    "* [PlaceHolders](#place_holders)\n",
    "* [tensorflow.train.Saver](#tensorflow_train_saver)\n",
    "* [TensorBoard](#tensor_board)"
   ]
  },
  {
   "cell_type": "markdown",
   "metadata": {},
   "source": [
    "Based on presentations by Dr. Amos Azaria\n",
    "\n",
    "Installation, see: [link](https://www.tensorflow.org/install/)\n",
    "\n",
    "tensorflow is build as graph, meaning you can create nodes as constant, vriable and function. You can connect the nodes and do action on them."
   ]
  },
  {
   "cell_type": "code",
   "execution_count": 1,
   "metadata": {},
   "outputs": [],
   "source": [
    "import tensorflow as tf"
   ]
  },
  {
   "cell_type": "markdown",
   "metadata": {},
   "source": [
    "[^ Contents](#contents)\n",
    "## Constants\n",
    "<a id='constants'></a>"
   ]
  },
  {
   "cell_type": "markdown",
   "metadata": {},
   "source": [
    "Create two nodes as constant."
   ]
  },
  {
   "cell_type": "code",
   "execution_count": 2,
   "metadata": {},
   "outputs": [],
   "source": [
    "a = tf.constant(3)\n",
    "b = tf.constant(4)"
   ]
  },
  {
   "cell_type": "markdown",
   "metadata": {},
   "source": [
    "When we print a node the result is an information about the node."
   ]
  },
  {
   "cell_type": "code",
   "execution_count": 3,
   "metadata": {},
   "outputs": [
    {
     "data": {
      "text/plain": [
       "<tf.Tensor 'Const:0' shape=() dtype=int32>"
      ]
     },
     "execution_count": 3,
     "metadata": {},
     "output_type": "execute_result"
    }
   ],
   "source": [
    "a"
   ]
  },
  {
   "cell_type": "markdown",
   "metadata": {},
   "source": [
    "C is a node that contains a multiplication operation between nodes a and b"
   ]
  },
  {
   "cell_type": "code",
   "execution_count": 4,
   "metadata": {},
   "outputs": [
    {
     "data": {
      "text/plain": [
       "<tf.Tensor 'mul:0' shape=() dtype=int32>"
      ]
     },
     "execution_count": 4,
     "metadata": {},
     "output_type": "execute_result"
    }
   ],
   "source": [
    "c = a*b\n",
    "c"
   ]
  },
  {
   "cell_type": "markdown",
   "metadata": {},
   "source": [
    "When we want to display the value of multiplication we need to create a session and run it."
   ]
  },
  {
   "cell_type": "code",
   "execution_count": 5,
   "metadata": {},
   "outputs": [
    {
     "data": {
      "text/plain": [
       "3"
      ]
     },
     "execution_count": 5,
     "metadata": {},
     "output_type": "execute_result"
    }
   ],
   "source": [
    "sess = tf.Session()\n",
    "sess.run(a)"
   ]
  },
  {
   "cell_type": "code",
   "execution_count": 6,
   "metadata": {},
   "outputs": [
    {
     "data": {
      "text/plain": [
       "12"
      ]
     },
     "execution_count": 6,
     "metadata": {},
     "output_type": "execute_result"
    }
   ],
   "source": [
    "sess.run(c)"
   ]
  },
  {
   "cell_type": "markdown",
   "metadata": {},
   "source": [
    "[^ Contents](#contents)\n",
    "## Variables\n",
    "<a id='variables'></a>"
   ]
  },
  {
   "cell_type": "markdown",
   "metadata": {},
   "source": [
    "Variable is a node like a constant but the difference between them is that vriable, as his name, can change his value."
   ]
  },
  {
   "cell_type": "code",
   "execution_count": 7,
   "metadata": {},
   "outputs": [],
   "source": [
    "var1 = tf.Variable(3)\n",
    "var2 = tf.Variable(4)\n",
    "c2 = var1 * var2"
   ]
  },
  {
   "cell_type": "code",
   "execution_count": 8,
   "metadata": {},
   "outputs": [
    {
     "name": "stdout",
     "output_type": "stream",
     "text": [
      "<tf.Variable 'Variable:0' shape=() dtype=int32_ref>\n",
      "Tensor(\"mul_1:0\", shape=(), dtype=int32)\n"
     ]
    }
   ],
   "source": [
    "print(var1)\n",
    "print(c2)"
   ]
  },
  {
   "cell_type": "code",
   "execution_count": 9,
   "metadata": {},
   "outputs": [
    {
     "data": {
      "text/plain": [
       "3"
      ]
     },
     "execution_count": 9,
     "metadata": {},
     "output_type": "execute_result"
    }
   ],
   "source": [
    "sess.run(tf.global_variables_initializer())\n",
    "sess.run(var1)"
   ]
  },
  {
   "cell_type": "code",
   "execution_count": 10,
   "metadata": {},
   "outputs": [
    {
     "data": {
      "text/plain": [
       "12"
      ]
     },
     "execution_count": 10,
     "metadata": {},
     "output_type": "execute_result"
    }
   ],
   "source": [
    "sess.run(c2)"
   ]
  },
  {
   "cell_type": "markdown",
   "metadata": {},
   "source": [
    "[^ Contents](#contents)\n",
    "### Simple Counting Program\n",
    "<a id='simple_counting_program'></a>"
   ]
  },
  {
   "cell_type": "markdown",
   "metadata": {},
   "source": [
    "Creating two nodes is one counter and the other is a constant containing the step value.\n",
    "\n",
    "The third node contains the function we want to do."
   ]
  },
  {
   "cell_type": "code",
   "execution_count": 11,
   "metadata": {},
   "outputs": [],
   "source": [
    "import tensorflow as tf\n",
    "x = tf.Variable(1)\n",
    "step = tf.constant(2)\n",
    "update = tf.assign(x, x+step)"
   ]
  },
  {
   "cell_type": "markdown",
   "metadata": {},
   "source": [
    "In each time that we run sess.run(update) we increace the value of x by 2."
   ]
  },
  {
   "cell_type": "code",
   "execution_count": 12,
   "metadata": {},
   "outputs": [
    {
     "name": "stdout",
     "output_type": "stream",
     "text": [
      "3\n",
      "5\n",
      "7\n",
      "9\n"
     ]
    }
   ],
   "source": [
    "sess = tf.Session()\n",
    "sess.run(tf.global_variables_initializer())\n",
    "for i in range(4):\n",
    "    print(sess.run(update))"
   ]
  },
  {
   "cell_type": "markdown",
   "metadata": {},
   "source": [
    "Display the value of x."
   ]
  },
  {
   "cell_type": "code",
   "execution_count": 13,
   "metadata": {},
   "outputs": [
    {
     "data": {
      "text/plain": [
       "9"
      ]
     },
     "execution_count": 13,
     "metadata": {},
     "output_type": "execute_result"
    }
   ],
   "source": [
    "sess.run(x)"
   ]
  },
  {
   "cell_type": "markdown",
   "metadata": {},
   "source": [
    "To initialise the value of x to the start value, write "
   ]
  },
  {
   "cell_type": "code",
   "execution_count": 14,
   "metadata": {},
   "outputs": [
    {
     "data": {
      "text/plain": [
       "1"
      ]
     },
     "execution_count": 14,
     "metadata": {},
     "output_type": "execute_result"
    }
   ],
   "source": [
    "sess.run(tf.global_variables_initializer())\n",
    "sess.run(x)"
   ]
  },
  {
   "cell_type": "markdown",
   "metadata": {},
   "source": [
    "[^ Contents](#contents)\n",
    "## Defenitions\n",
    "<a id='defenitions'></a>"
   ]
  },
  {
   "cell_type": "markdown",
   "metadata": {},
   "source": [
    "* Data: set of x's and their true labels/values (y's).\n",
    "* Model Function: A function we use to get the y from the x. (We will use this function to predict the y's, when we don't have them, or during the test phase). As we will see this model may be very complex.\n",
    "* Loss Function: a function that determines the error which we intend to minimize.\n"
   ]
  },
  {
   "cell_type": "markdown",
   "metadata": {},
   "source": [
    "[^ Contents](#contents)\n",
    "### Learning What Numbers Were Noisily Multiplied by\n",
    "<a id='learning_what_numbers_were_noisily_multiplied_by'></a>"
   ]
  },
  {
   "cell_type": "code",
   "execution_count": 15,
   "metadata": {},
   "outputs": [],
   "source": [
    "import tensorflow as tf\n",
    "\n",
    "x = tf.constant([7.01, 3.02, 4.99, 8.])\n",
    "y_ = tf.constant([14.01, 6.01, 10., 16.04])\n",
    "m = tf.Variable(0.) #note the dot"
   ]
  },
  {
   "cell_type": "markdown",
   "metadata": {},
   "source": [
    "Definition of loss function"
   ]
  },
  {
   "cell_type": "code",
   "execution_count": 16,
   "metadata": {},
   "outputs": [],
   "source": [
    "y = m*x\n",
    "loss = tf.reduce_mean(tf.pow(y - y_, 2))"
   ]
  },
  {
   "cell_type": "markdown",
   "metadata": {},
   "source": [
    "Select the GradientDescentOptimizer optimization method. Also define the size of the step $(\\alpha)$ and delivery of the loss function."
   ]
  },
  {
   "cell_type": "code",
   "execution_count": 17,
   "metadata": {},
   "outputs": [],
   "source": [
    "update = tf.train.GradientDescentOptimizer(0.0001).minimize(loss)\n",
    "sess = tf.Session()\n",
    "sess.run(tf.global_variables_initializer())"
   ]
  },
  {
   "cell_type": "markdown",
   "metadata": {},
   "source": [
    "Run 1000 epochs"
   ]
  },
  {
   "cell_type": "code",
   "execution_count": 18,
   "metadata": {},
   "outputs": [
    {
     "name": "stdout",
     "output_type": "stream",
     "text": [
      "2.0005188\n"
     ]
    }
   ],
   "source": [
    "for _ in range(0,1000):\n",
    "\tsess.run(update)\n",
    "print(sess.run(m))"
   ]
  },
  {
   "cell_type": "markdown",
   "metadata": {},
   "source": [
    "[^ Contents](#contents)\n",
    "## PlaceHolders\n",
    "<a id='place_holders'></a>"
   ]
  },
  {
   "cell_type": "markdown",
   "metadata": {},
   "source": [
    "If we do not want to load the data at the start of the run but during the run, we can use PlaceHolders node.\n",
    "<br>PlaceHolders gets a type of the data and the dimension of the data."
   ]
  },
  {
   "cell_type": "markdown",
   "metadata": {},
   "source": [
    "```python\n",
    "x = tf.placeholder(tf.float32, [None, 1])\n",
    "y_ = tf.placeholder(tf.float32, [None, 1])\n",
    "\n",
    ".\n",
    ".\n",
    ".\n",
    "\n",
    "for _ in range(0,1000):\n",
    "sess.run(update, feed_dict = {x:[[7.01], [3.02], [4.99], [8.]], y_:[[14.01], [6.01], [10.], [16.04]]})\n",
    "```"
   ]
  },
  {
   "cell_type": "markdown",
   "metadata": {},
   "source": [
    "[^ Contents](#contents)\n",
    "## tensorflow.train.Saver\n",
    "<a id='tensorflow_train_saver'></a>"
   ]
  },
  {
   "cell_type": "markdown",
   "metadata": {},
   "source": [
    "We can use tensorflow.train.Saver to save the data and weights we get during the run.\n",
    "<br>This help us to resume training.\n",
    "\n",
    "A good practice is to save checkpoints every X updates.\n",
    "```python\n",
    "saver = tf.train.Saver()\n",
    "saver.save(sess, filename)\n",
    "saver.restore(sess, filename)\n",
    "```\n",
    "\n",
    "If you want to see more [link](https://www.easy-tensorflow.com/tf-tutorials/basics/save-and-restore)\n",
    "\n",
    "We will demonstrate the use of these commands in one of the previous examples."
   ]
  },
  {
   "cell_type": "code",
   "execution_count": 19,
   "metadata": {},
   "outputs": [],
   "source": [
    "import tensorflow as tf\n",
    "import numpy as np\n",
    "\n",
    "features = 2\n",
    "x = tf.placeholder(tf.float32, [None, features])\n",
    "y_ = tf.placeholder(tf.float32, [None, 1])\n",
    "W = tf.Variable(tf.zeros([features,1]))\n",
    "b = tf.Variable(tf.zeros([1]))\n",
    "data_x = np.array([[2,4],[3,9],[4,16],[6,36],[7,49]])\n",
    "data_y = np.array([[70],[110],[165],[390],[550]])\n",
    "\n",
    "y = tf.matmul(x,W) + b\n",
    "loss = tf.reduce_mean(tf.pow(y - y_, 2))\n",
    "update = tf.train.GradientDescentOptimizer(0.001).minimize(loss)"
   ]
  },
  {
   "cell_type": "markdown",
   "metadata": {},
   "source": [
    "#### Saving information\n",
    "\n",
    "Create saver object and run the session.\n"
   ]
  },
  {
   "cell_type": "code",
   "execution_count": 20,
   "metadata": {},
   "outputs": [
    {
     "name": "stdout",
     "output_type": "stream",
     "text": [
      "model saved in ./saved_variable\n"
     ]
    }
   ],
   "source": [
    "saver = tf.train.Saver()\n",
    "\n",
    "with tf.Session() as sess:\n",
    "    # initialize all of the variables in the session\n",
    "    sess.run(tf.global_variables_initializer())\n",
    "\n",
    "    for i in range(1000):\n",
    "        sess.run(update, feed_dict={x: data_x, y_: data_y})\n",
    "        if 1 % 100 == 0:\n",
    "            print('Iteration:', i, ' W:', sess.run(W), ' b:', sess.run(b), ' loss:', loss.eval(session=sess, feed_dict={x: data_x, y_: data_y}))\n",
    "\n",
    "    # Save the variable in the file\n",
    "    saved_path = saver.save(sess, './saved_variable')\n",
    "    print('model saved in {}'.format(saved_path))"
   ]
  },
  {
   "cell_type": "markdown",
   "metadata": {},
   "source": [
    "#### Restoring information"
   ]
  },
  {
   "cell_type": "code",
   "execution_count": 21,
   "metadata": {},
   "outputs": [
    {
     "name": "stdout",
     "output_type": "stream",
     "text": [
      "INFO:tensorflow:Restoring parameters from ./saved_variable\n",
      "W =  [[ 2.0441222]\n",
      " [10.644336 ]]\n",
      "b =  [3.9046898]\n"
     ]
    }
   ],
   "source": [
    "with tf.Session() as sess:\n",
    "    # Restore the saved vairable\n",
    "    saver.restore(sess, './saved_variable')\n",
    "    # Print the loaded variable\n",
    "    a_out, b_out = sess.run([W, b])\n",
    "    print('W = ', a_out)\n",
    "    print('b = ', b_out)"
   ]
  },
  {
   "cell_type": "markdown",
   "metadata": {},
   "source": [
    "[^ Contents](#contents)\n",
    "## TensorBoard\n",
    "<a id='tensor_board'></a>"
   ]
  },
  {
   "cell_type": "markdown",
   "metadata": {},
   "source": [
    "TensorBoard can help visualize the built graph along with presenting different charts.\n",
    "\n",
    "To create a graph.\n",
    "<br>The function gets a path for store the graph and the session\n",
    "```python\n",
    "tf.summary.FileWriter('./my_graph', sess.graph)\n",
    "```\n",
    "In order to open the browser of graph (at http://0.0.0.0:8008/#graphs)\n",
    "write at the terminal."
   ]
  },
  {
   "cell_type": "markdown",
   "metadata": {},
   "source": [
    "```bash\n",
    "tensorboard --port=8008 --logdir ./my_graph/\n",
    "```"
   ]
  },
  {
   "cell_type": "markdown",
   "metadata": {},
   "source": [
    "In order to give a name to graph\n",
    "```python\n",
    "m = tf.Variable(<data>, name = <graphName>)\n",
    "```"
   ]
  },
  {
   "cell_type": "code",
   "execution_count": 22,
   "metadata": {},
   "outputs": [],
   "source": [
    "import tensorflow as tf\n",
    "\n",
    "x = tf.placeholder(tf.float32, [None, 1])\n",
    "y_ = tf.placeholder(tf.float32, [None, 1])\n",
    "m = tf.Variable(0.)\n",
    "y = m*x\n",
    "loss = tf.reduce_mean(tf.pow(y - y_, 2))\n",
    "update = tf.train.GradientDescentOptimizer(0.0001).minimize(loss)"
   ]
  },
  {
   "cell_type": "code",
   "execution_count": 23,
   "metadata": {},
   "outputs": [],
   "source": [
    "msum = tf.summary.scalar('msum', m)\n",
    "losssum = tf.summary.scalar('losssum', loss)\n",
    "merged = tf.summary.merge_all()"
   ]
  },
  {
   "cell_type": "code",
   "execution_count": 24,
   "metadata": {},
   "outputs": [],
   "source": [
    "sess = tf.Session()\n",
    "file_writer = tf.summary.FileWriter('./my_graph', sess.graph)\n",
    "sess.run(tf.global_variables_initializer())"
   ]
  },
  {
   "cell_type": "code",
   "execution_count": 25,
   "metadata": {},
   "outputs": [
    {
     "name": "stdout",
     "output_type": "stream",
     "text": [
      "2.0005188\n"
     ]
    }
   ],
   "source": [
    "data_dict = {x:[[7.01], [3.02], [4.99], [8.]], y_:[[14.01], [6.01], [10.], [16.04]]}\n",
    "for i in range(0,1000):\n",
    "   [_,curr_sammary] = sess.run([update,merged], feed_dict = data_dict)\n",
    "   file_writer.add_summary(curr_sammary, i)\n",
    "\n",
    "file_writer.close()\n",
    "print(sess.run(m))"
   ]
  },
  {
   "cell_type": "markdown",
   "metadata": {},
   "source": [
    "[^ Contents](#contents)"
   ]
  }
 ],
 "metadata": {
  "kernelspec": {
   "display_name": "Python 3",
   "language": "python",
   "name": "python3"
  },
  "language_info": {
   "codemirror_mode": {
    "name": "ipython",
    "version": 3
   },
   "file_extension": ".py",
   "mimetype": "text/x-python",
   "name": "python",
   "nbconvert_exporter": "python",
   "pygments_lexer": "ipython3",
   "version": "3.5.2"
  }
 },
 "nbformat": 4,
 "nbformat_minor": 2
}
