{
 "cells": [
  {
   "cell_type": "markdown",
   "metadata": {},
   "source": [
    "Ariel university\n",
    "\n",
    "<h3><center>Course name: Deep learning and natural language processing</center></h3>\n",
    "\n",
    "Course number: 7061510-1\n",
    "\n",
    "Lecturer: Dr. Amos Azaria\n",
    "\n",
    "The editor: Moshe Hanukoglu\n",
    "\n",
    "Date: First Semester 2018-2019"
   ]
  },
  {
   "cell_type": "markdown",
   "metadata": {},
   "source": [
    "<a id='contents'></a>\n",
    "### Table of contents\n",
    "* [Linear Regression](#linear_regression)\n",
    "    * [Motivation To Loss Function](#motivation_to_loss_function_linear)\n",
    "    * [Gradient Descent](#gradient_descent_linear)\n",
    "        * [BGD, SGD, MB-GD](#bgd_sgd_mb-gd)\n",
    "    * [Adding Features](#adding_features)\n",
    "    * [Over Fitting](#over_fitting)\n",
    "    * [Regularization](#regularization)\n",
    "        * [Lasso and Ridge](#lasso_ridge)\n",
    "        * [Early Stopping](#early_stopping)\n",
    "    * [Normalization](#normalization)\n",
    "* [Logistic Regression](#logistic_regression)\n",
    "    * [Motivation To Loss Function](#motivation_to_loss_function_logistic)\n",
    "    * [Gradient Descent](#gradient_descent_logistic)\n",
    "    * [Example Of Classification](#example_of_classification)\n",
    "    * [The Quality Of The Classifier](#the_quality_of_the_classifier)\n",
    "    * [Imbalanced Data](#imbalanced_data)\n",
    "    * [Multiple Classes (SoftMax)](#multiple_classes)\n",
    "    * [Example - SMS Classification](#example_sms_classification)\n",
    "* [Summary](#summary)"
   ]
  },
  {
   "cell_type": "markdown",
   "metadata": {},
   "source": [
    "Based on presentations by Dr. Amos Azaria"
   ]
  },
  {
   "cell_type": "markdown",
   "metadata": {},
   "source": [
    "[^ Contents](#contents)\n",
    "# Linear Regression\n",
    "<a id='linear_regression'></a>"
   ]
  },
  {
   "cell_type": "markdown",
   "metadata": {},
   "source": [
    "The task we want to do now is predicting missing information based on information we have that is close to the information we lack.\n",
    "\n",
    "The method we use is called \"Linear regression\".\n",
    "\n",
    "\n",
    "We will take an example problem so that we will have more rest to demonstrate the solution.\n",
    "<br>Our problem is to predict the price of the Galaxy 5 number phones.\n",
    "<br>We know prices of Galaxy number 2,3,4,6,7.\n",
    "\n",
    "<img src=\"Linear_regression_mean_line.png\" width=\"400\">\n",
    "\n",
    "Linear regression is a method that searches for the straight y = wx + b so that the mean of the distances of the straight from each of the points on the graph is minimal.\n",
    "<br>The red line in the picture above is the one we are looking for.\n",
    "\n",
    "Formally, each value of $ x \\in \\{x_1,x_2,x_3,…x_m\\}$(Galaxy number) has a value of $ y \\in \\{y_1,y_2,y_3…y_m\\} $ (its price).\n",
    "<br>For each $ x_i $ and $ y_i $, $ y_i = w x_i + b $.\n",
    "We will essentially want to achieve the minimum function $ \\frac{1}{m} * $$\\sum_{i=1}^{m} |wx_i + b - y_i| $.\n",
    "<br>The minimum is found by the gradient descent.\n",
    "<br>For ease of work, we will change the function a bit and write it down like this: $ \\frac{1}{2m} * $$\\sum_{i=1}^{m} \\left(wx_i + b - y_i\\right)^2 $\n",
    "\n",
    "Our task is to find the w and b that give us the minimum of the function."
   ]
  },
  {
   "cell_type": "markdown",
   "metadata": {},
   "source": [
    "[^ contents](#contents)\n",
    "## Motivation To Loss Function\n",
    "<a id='motivation_to_loss_function_linear'></a>"
   ]
  },
  {
   "cell_type": "markdown",
   "metadata": {},
   "source": [
    "We would like to show that the y values we have in dataset are the real values or very close to real values with little \"noise\", rather than values obtained as a result of a lot of noise entering the results.\n",
    "\n",
    "In other words, suppose the noise is divided by Gaussian with mean 0 and variance ...\n",
    "\n",
    "Therefore, the formula is $ \\epsilon \\sim N(0,\\sigma^2) $.\n",
    "\n",
    "The Gaussian distribution can be said $ p(\\epsilon_i) = \\frac{1}{\\sqrt{2\\Pi}\\sigma}e^{-\\frac{(\\epsilon_i)^2}{2{\\sigma}^2\\\\}} $\n",
    "\n",
    "And therefore will also take place $ p(y_i|x_i;w,b) = \\frac{1}{\\sqrt{2\\Pi}\\sigma}e^{-\\frac{(y_i - (wx_i+b))^2}{2{\\sigma}^2\\\\}} $\n",
    "\n",
    "As a result of all this we want to maximize the probability  $ p(y|x;w,b) $ to say that the probability of getting yi given $x_i, w, n$ is the highest, which means that the data we received is the most likely, and not that it is reasonable but with a lot of noise.\n",
    "\n",
    "$$ p(y|x;w,b) = \\prod_{i=1}^{m} p(y_i|x_i;w,b) = \\prod_{i=1}^{m}  \\frac{1}{\\sqrt{2\\Pi}\\sigma}e^{-\\frac{(y_i - (wx_i+b))^2}{2{\\sigma}^2\\\\}} $$\n",
    "\n",
    "We will apply log on both wings.\n",
    "\n",
    "$$ log(p(y|x;w,b)) = log \\left(\\prod_{i=1}^{m}  \\frac{1}{\\sqrt{2\\Pi}\\sigma}e^{-\\frac{(y_i -  (wx_i+b))^2}{2{\\sigma}^2\\\\}}\\right) = \\sum_{i=1}^{m} log\\left(\\frac{1}{\\sqrt{2\\Pi}\\sigma}e^{-\\frac{(y_i -  (wx_i+b))^2}{2{\\sigma}^2\\\\}}\\right) = m log\\left(\\frac{1}{\\sqrt{2\\Pi}\\sigma}\\right) +  \\sum_{i=1}^{m} log\\left(e^{-\\frac{(y_i -  (wx_i+b))^2}{2{\\sigma}^2\\\\}}\\right) =  m log\\left(\\frac{1}{\\sqrt{2\\Pi}\\sigma}\\right) - \\sum_{i=1}^{m} \\frac{(y_i -  (wx_i+b))^2}{2{\\sigma}^2\\\\}$$\n",
    "\n",
    "Because $$ log\\left(\\frac{1}{\\sqrt{2\\Pi}\\sigma}\\right) $$ is constant, then to get the greatest value we want $$ \\sum_{i=1}^{m} \\frac{(y_i -  (wx_i+b))^2}{2{\\sigma}^2\\\\} = \\frac{1}{2{\\sigma}^2\\\\}\\sum_{i=1}^{m} (y_i -  (wx_i+b))^2$$  to be as small as possible (because it is negative)\n",
    "\n",
    "So we calculate the gradient in its negative direction.\n",
    "\n",
    "\n",
    "Note: In order to understand more deeply the motivation for this function, you can read this [link](https://www.quora.com/When-one-uses-the-squared-loss-function-for-regression-does-it-mean-you-implicitly-assume-that-your-adding-Gaussian-noise-with-same-variance)"
   ]
  },
  {
   "cell_type": "markdown",
   "metadata": {},
   "source": [
    "Note: Linear regression has a closed-form solution $ W = (X^TX)^{-1}X^TY $"
   ]
  },
  {
   "cell_type": "markdown",
   "metadata": {},
   "source": [
    "[^ contents](#contents)\n",
    "## Gradient Descent\n",
    "<a id='gradient_descent_linear'></a>"
   ]
  },
  {
   "cell_type": "markdown",
   "metadata": {},
   "source": [
    "Our way of finding the minimum of function is by Gradient Descent.\n",
    " \n",
    "<br>In this method we calculate the gradient.\n",
    "<br>The gradient gives us the direction of the incline upwards, so to get the minimum direction we need to multiply -1.\n",
    "<br>As can be seen in the picture.\n",
    "<img src=\"gradient-trajectory.png\" width=\"500px\"/>\n",
    "credite: [link](http://ludovicarnold.altervista.org/teaching/optimization/gradient-descent/)\n",
    "\n",
    "Now we calculate the gradient of our function, $ J(w,b) = \\frac{1}{2m} * $$\\sum_{i=1}^{m} (wx_i + b - y_i)^2 $.\n",
    "<br>$ \\bigtriangledown J(w,b) = (\\frac{\\partial J}{\\partial w}, \\frac{\\partial J}{\\partial b})$\n",
    "<br>$\\frac{\\partial J}{\\partial w} = \\frac{1}{2m} * $$\\sum_{i=1}^{m} 2(wx_i + b - y_i)*x_i = \\frac{1}{m} * $$\\sum_{i=1}^{m} (wx_i + b - y_i)*x_i$\n",
    "<br>$\\frac{\\partial J}{\\partial b} = \\frac{1}{2m} * $$\\sum_{i=1}^{m} 2(wx_i + b - y_i)*1 = \\frac{1}{m} * $$\\sum_{i=1}^{m} (wx_i + b - y_i)$\n",
    "\n",
    "<br>$ \\bigtriangledown J(w,b) = \\left(\\frac{1}{m} * \\sum_{i=1}^{m} (wx_i + b - y_i)*x_i, \\frac{1}{m} * \\sum_{i=1}^{m} (wx_i + b - y_i)\\right)$\n",
    "\n",
    "When we have the gradient we can write out an algorithm to linear regression."
   ]
  },
  {
   "cell_type": "markdown",
   "metadata": {},
   "source": [
    "Upload the data of Galaxy prices. "
   ]
  },
  {
   "cell_type": "code",
   "execution_count": 1,
   "metadata": {},
   "outputs": [],
   "source": [
    "import numpy as np\n",
    "galaxy_data = np.array([[2,70],[3,110],[4,165],[6,390],[7,550]])"
   ]
  },
  {
   "cell_type": "markdown",
   "metadata": {},
   "source": [
    "Inetialise the w, b and alpha (learning rate)."
   ]
  },
  {
   "cell_type": "code",
   "execution_count": 2,
   "metadata": {},
   "outputs": [],
   "source": [
    "w = 0\n",
    "b = 0\n",
    "alpha = 0.01"
   ]
  },
  {
   "cell_type": "markdown",
   "metadata": {},
   "source": [
    "We run 10000 epochs when each epoch calculate the gradient and adds it to w, b.\n",
    "\n",
    "After all 200 epochs printed on the screen the number of iteration, the gradient of w, the gradient of b, the new value of w and the new value of b. "
   ]
  },
  {
   "cell_type": "code",
   "execution_count": 3,
   "metadata": {},
   "outputs": [
    {
     "name": "stdout",
     "output_type": "stream",
     "text": [
      "it:0,  grad_w:1464.000, grad_b:257.000, w:14.640, b:2.570\n",
      "it:200,  grad_w:3.825, grad_b:-19.693, w:70.598, b:-33.968\n",
      "it:400,  grad_w:2.859, grad_b:-14.720, w:77.230, b:-68.115\n",
      "it:600,  grad_w:2.137, grad_b:-11.003, w:82.188, b:-93.639\n",
      "it:800,  grad_w:1.597, grad_b:-8.224, w:85.893, b:-112.717\n",
      "it:1000,  grad_w:1.194, grad_b:-6.147, w:88.663, b:-126.977\n",
      "it:1200,  grad_w:0.892, grad_b:-4.595, w:90.733, b:-137.636\n",
      "it:1400,  grad_w:0.667, grad_b:-3.434, w:92.280, b:-145.604\n",
      "it:1600,  grad_w:0.499, grad_b:-2.567, w:93.437, b:-151.559\n",
      "it:1800,  grad_w:0.373, grad_b:-1.919, w:94.301, b:-156.010\n",
      "it:2000,  grad_w:0.279, grad_b:-1.434, w:94.948, b:-159.338\n",
      "it:2200,  grad_w:0.208, grad_b:-1.072, w:95.431, b:-161.825\n",
      "it:2400,  grad_w:0.156, grad_b:-0.801, w:95.792, b:-163.684\n",
      "it:2600,  grad_w:0.116, grad_b:-0.599, w:96.062, b:-165.073\n",
      "it:2800,  grad_w:0.087, grad_b:-0.448, w:96.263, b:-166.112\n",
      "it:3000,  grad_w:0.065, grad_b:-0.335, w:96.414, b:-166.888\n",
      "it:3200,  grad_w:0.049, grad_b:-0.250, w:96.527, b:-167.468\n",
      "it:3400,  grad_w:0.036, grad_b:-0.187, w:96.611, b:-167.902\n",
      "it:3600,  grad_w:0.027, grad_b:-0.140, w:96.674, b:-168.226\n",
      "it:3800,  grad_w:0.020, grad_b:-0.104, w:96.721, b:-168.469\n",
      "it:4000,  grad_w:0.015, grad_b:-0.078, w:96.756, b:-168.650\n",
      "it:4200,  grad_w:0.011, grad_b:-0.058, w:96.783, b:-168.785\n",
      "it:4400,  grad_w:0.008, grad_b:-0.044, w:96.802, b:-168.886\n",
      "it:4600,  grad_w:0.006, grad_b:-0.033, w:96.817, b:-168.962\n",
      "it:4800,  grad_w:0.005, grad_b:-0.024, w:96.828, b:-169.019\n",
      "it:5000,  grad_w:0.004, grad_b:-0.018, w:96.836, b:-169.061\n",
      "it:5200,  grad_w:0.003, grad_b:-0.014, w:96.842, b:-169.093\n",
      "it:5400,  grad_w:0.002, grad_b:-0.010, w:96.847, b:-169.116\n",
      "it:5600,  grad_w:0.001, grad_b:-0.008, w:96.850, b:-169.134\n",
      "it:5800,  grad_w:0.001, grad_b:-0.006, w:96.853, b:-169.147\n",
      "it:6000,  grad_w:0.001, grad_b:-0.004, w:96.855, b:-169.157\n",
      "it:6200,  grad_w:0.001, grad_b:-0.003, w:96.856, b:-169.164\n",
      "it:6400,  grad_w:0.000, grad_b:-0.002, w:96.857, b:-169.170\n",
      "it:6600,  grad_w:0.000, grad_b:-0.002, w:96.858, b:-169.174\n",
      "it:6800,  grad_w:0.000, grad_b:-0.001, w:96.859, b:-169.177\n",
      "it:7000,  grad_w:0.000, grad_b:-0.001, w:96.859, b:-169.179\n",
      "it:7200,  grad_w:0.000, grad_b:-0.001, w:96.859, b:-169.181\n",
      "it:7400,  grad_w:0.000, grad_b:-0.001, w:96.860, b:-169.182\n",
      "it:7600,  grad_w:0.000, grad_b:-0.000, w:96.860, b:-169.183\n",
      "it:7800,  grad_w:0.000, grad_b:-0.000, w:96.860, b:-169.184\n",
      "it:8000,  grad_w:0.000, grad_b:-0.000, w:96.860, b:-169.184\n",
      "it:8200,  grad_w:0.000, grad_b:-0.000, w:96.860, b:-169.185\n",
      "it:8400,  grad_w:0.000, grad_b:-0.000, w:96.860, b:-169.185\n",
      "it:8600,  grad_w:0.000, grad_b:-0.000, w:96.860, b:-169.185\n",
      "it:8800,  grad_w:0.000, grad_b:-0.000, w:96.860, b:-169.186\n",
      "it:9000,  grad_w:0.000, grad_b:-0.000, w:96.860, b:-169.186\n",
      "it:9200,  grad_w:0.000, grad_b:-0.000, w:96.860, b:-169.186\n",
      "it:9400,  grad_w:0.000, grad_b:-0.000, w:96.860, b:-169.186\n",
      "it:9600,  grad_w:0.000, grad_b:-0.000, w:96.860, b:-169.186\n",
      "it:9800,  grad_w:0.000, grad_b:-0.000, w:96.860, b:-169.186\n"
     ]
    }
   ],
   "source": [
    "for iteration in range(10000):\n",
    "    gradient_b = np.mean(1*(galaxy_data[:,1]-(w*galaxy_data[:,0]+b)))\n",
    "    gradient_w = np.mean(galaxy_data[:,0]*(galaxy_data[:,1]-(w*galaxy_data[:,0]+b)))\n",
    "    b += alpha*gradient_b\n",
    "    w += alpha*gradient_w\n",
    "    if iteration % 200 == 0 :\n",
    "        print(\"it:%d,  grad_w:%.3f, grad_b:%.3f, w:%.3f, b:%.3f\" %(iteration, gradient_w, gradient_b, w, b))"
   ]
  },
  {
   "cell_type": "markdown",
   "metadata": {},
   "source": [
    "After we have the correct w, b we can recognise the price of Galaxy 5."
   ]
  },
  {
   "cell_type": "code",
   "execution_count": 4,
   "metadata": {},
   "outputs": [
    {
     "name": "stdout",
     "output_type": "stream",
     "text": [
      "Estimated price for Galaxy S5:  315.1162815729334\n"
     ]
    }
   ],
   "source": [
    "print(\"Estimated price for Galaxy S5: \", w*5 + b)"
   ]
  },
  {
   "cell_type": "markdown",
   "metadata": {},
   "source": [
    "[^ contents](#contents)\n",
    "### BGD, SGD, MB-GD\n",
    "<a id='bgd_sgd_mb-gd'></a>"
   ]
  },
  {
   "cell_type": "markdown",
   "metadata": {},
   "source": [
    "The three approaches that will be presented later differ in their opinion of how each percentage of the data calculates the gradient each iteration.\n",
    "\n",
    "* Batch Gradient Descent (BGD): uses all Data-set to compute gradient at a time. Performs an average of all the data and then calculate the gradient.\n",
    "* Stochastic Gradient Descent (SGD): uses only a single example at a time (shuffle data first).\n",
    "* Mini-Batch Gradient Descent (MB-GD): uses only a subset of the data-set, (e.g. 50) at a time (requires shuffle as well)."
   ]
  },
  {
   "cell_type": "markdown",
   "metadata": {},
   "source": [
    "[^ contents](#contents)\n",
    "## Adding Features\n",
    "<a id='adding_features'></a>"
   ]
  },
  {
   "cell_type": "markdown",
   "metadata": {},
   "source": [
    "So far we have used one feature for each value.\n",
    "<br>In order to make our prediction results more accurate, we would like to add more features.\n",
    "<br>The addition of the features can be done using two methods,\n",
    "1. A natural method to introduce more features to the system on each of the values.\n",
    "2. An artificial method takes the existing feature x and adds other features $ x^2, x^3, ...$\n",
    "\n",
    "When there are $ n $ features need weight for each feature and therefore there will be $ n $ weights"
   ]
  },
  {
   "cell_type": "markdown",
   "metadata": {},
   "source": [
    "Create a table in size 2 on n, n will be determined later in the program and initialize W to table in size 2X1 because there are 2 features  for each point in the train data.\n",
    "\n",
    "In this case, we added features by an artificial method."
   ]
  },
  {
   "cell_type": "code",
   "execution_count": 5,
   "metadata": {},
   "outputs": [],
   "source": [
    "import tensorflow as tf\n",
    "import numpy as np\n",
    "\n",
    "features = 2\n",
    "x = tf.placeholder(tf.float32, [None, features])\n",
    "y_ = tf.placeholder(tf.float32, [None, 1])\n",
    "W = tf.Variable(tf.zeros([features,1]))\n",
    "b = tf.Variable(tf.zeros([1]))\n",
    "data_x = np.array([[2,4],[3,9],[4,16],[6,36],[7,49]])\n",
    "data_y = np.array([[70],[110],[165],[390],[550]])"
   ]
  },
  {
   "cell_type": "markdown",
   "metadata": {},
   "source": [
    "initialize the loss function and update function that runs the gradient descent with alpha 0.001 and our loss function."
   ]
  },
  {
   "cell_type": "code",
   "execution_count": 6,
   "metadata": {},
   "outputs": [],
   "source": [
    "y = tf.matmul(x,W) + b\n",
    "loss = tf.reduce_mean(tf.pow(y - y_, 2))\n",
    "update = tf.train.GradientDescentOptimizer(0.001).minimize(loss)"
   ]
  },
  {
   "cell_type": "code",
   "execution_count": 7,
   "metadata": {},
   "outputs": [],
   "source": [
    "sess = tf.Session()\n",
    "sess.run(tf.global_variables_initializer())"
   ]
  },
  {
   "cell_type": "code",
   "execution_count": 8,
   "metadata": {},
   "outputs": [
    {
     "name": "stdout",
     "output_type": "stream",
     "text": [
      "Iteration: 0  W: [[ 2.9280002]\n",
      " [17.960001 ]]  b: [0.514]  loss: 44111.715\n",
      "Iteration: 10000  W: [[-8.662441]\n",
      " [11.771298]]  b: [25.665333]  loss: 112.03969\n",
      "Iteration: 20000  W: [[-17.871014]\n",
      " [ 12.74393 ]]  b: [44.263157]  loss: 68.60526\n",
      "Iteration: 30000  W: [[-24.862799]\n",
      " [ 13.482421]]  b: [58.38387]  loss: 43.56598\n",
      "Iteration: 40000  W: [[-30.171246]\n",
      " [ 14.043115]]  b: [69.10478]  loss: 29.13128\n",
      "Iteration: 50000  W: [[-34.201736]\n",
      " [ 14.46882 ]]  b: [77.24501]  loss: 20.809607\n",
      "Iteration: 60000  W: [[-37.261272]\n",
      " [ 14.791976]]  b: [83.424126]  loss: 16.01305\n",
      "Iteration: 70000  W: [[-39.583096]\n",
      " [ 15.037201]]  b: [88.11371]  loss: 13.248581\n",
      "Iteration: 80000  W: [[-41.345997]\n",
      " [ 15.223399]]  b: [91.67423]  loss: 11.654467\n",
      "Iteration: 90000  W: [[-42.68493 ]\n",
      " [ 15.364842]]  b: [94.37757]  loss: 10.735038\n"
     ]
    }
   ],
   "source": [
    "for i in range(100000):\n",
    "    sess.run(update, feed_dict = {x:data_x, y_:data_y})\n",
    "    if i % 10000 == 0 :\n",
    "        print('Iteration:' , i , ' W:' , sess.run(W) , ' b:' , sess.run(b), ' loss:', loss.eval(session=sess, feed_dict = {x:data_x, y_:data_y}))"
   ]
  },
  {
   "cell_type": "markdown",
   "metadata": {},
   "source": [
    "The actual price of Galaxy 5: $250"
   ]
  },
  {
   "cell_type": "code",
   "execution_count": 9,
   "metadata": {},
   "outputs": [
    {
     "name": "stdout",
     "output_type": "stream",
     "text": [
      "Prediction for Galaxy 5: [264.72851753]\n"
     ]
    }
   ],
   "source": [
    "print('Prediction for Galaxy 5:', np.matmul(np.array([5,25]),sess.run(W)) + sess.run(b))"
   ]
  },
  {
   "cell_type": "markdown",
   "metadata": {},
   "source": [
    "The actual price of Galaxy 1: $30"
   ]
  },
  {
   "cell_type": "code",
   "execution_count": 10,
   "metadata": {},
   "outputs": [
    {
     "name": "stdout",
     "output_type": "stream",
     "text": [
      "Prediction for Galaxy 1: [68.20199776]\n"
     ]
    }
   ],
   "source": [
    "print('Prediction for Galaxy 1:', np.matmul(np.array([1,1]),sess.run(W)) + sess.run(b))"
   ]
  },
  {
   "cell_type": "markdown",
   "metadata": {},
   "source": [
    "[^ contents](#contents)\n",
    "## Over Fitting\n",
    "<a id='over_fitting'></a>"
   ]
  },
  {
   "cell_type": "markdown",
   "metadata": {},
   "source": [
    "Over-Fitting is a problem that is created when we add too many attributes because when there are too many features, the model learns to predict precisely the information it is trained on, but when you introduce new information that it did not see, it doesn't know to predict it.\n",
    "\n",
    "At the end of the program, we see a graph that describes the over-fitting in the price of Galaxy 8, the price is under <b> 0$ </b>"
   ]
  },
  {
   "cell_type": "code",
   "execution_count": 11,
   "metadata": {},
   "outputs": [],
   "source": [
    "import tensorflow as tf\n",
    "import numpy as np\n",
    "import matplotlib.pyplot as plt\n",
    "\n",
    "def vecto(x):\n",
    "# This function returns an array of numbers with 20 (#features) features.\n",
    "    ret = []\n",
    "    for i in suff_feat:\n",
    "        ret.append(x**i / 7.**i)\n",
    "    return ret\n",
    "\n",
    "features = 20\n",
    "suff_feat = np.array(range(1,features+1))\n",
    "np.random.shuffle(suff_feat)\n",
    "\n",
    "x = tf.placeholder(tf.float32, [None, features])\n",
    "y_ = tf.placeholder(tf.float32, [None, 1])\n",
    "W = tf.Variable(tf.zeros([features,1]))\n",
    "b = tf.Variable(tf.zeros([1]))\n",
    "y = tf.matmul(x,W) + b\n",
    "loss = tf.reduce_mean(tf.pow(y - y_, 2))\n",
    "update = tf.train.GradientDescentOptimizer(0.1).minimize(loss)\n",
    "data_x = np.array([vecto(2),vecto(3),vecto(4),vecto(6),vecto(7)])\n",
    "data_y = np.array([[70],[110],[165],[390],[550]])"
   ]
  },
  {
   "cell_type": "code",
   "execution_count": 12,
   "metadata": {},
   "outputs": [
    {
     "name": "stdout",
     "output_type": "stream",
     "text": [
      "Iteration: 0  W: [[25.36474 ]\n",
      " [31.291296]\n",
      " [23.325127]\n",
      " [23.546486]\n",
      " [22.834103]\n",
      " [26.625336]\n",
      " [27.446125]\n",
      " [22.7149  ]\n",
      " [36.65306 ]\n",
      " [41.82857 ]\n",
      " [23.80512 ]\n",
      " [24.107534]\n",
      " [33.467056]\n",
      " [28.445053]\n",
      " [23.135578]\n",
      " [29.68863 ]\n",
      " [22.973211]\n",
      " [24.46154 ]\n",
      " [25.940918]\n",
      " [24.876663]]  b: [51.4]  loss: 6487.221\n",
      "Iteration: 100000  W: [[ 21.070328 ]\n",
      " [ 66.18631  ]\n",
      " [-16.36434  ]\n",
      " [-11.929311 ]\n",
      " [-26.355383 ]\n",
      " [ 38.226627 ]\n",
      " [ 46.371933 ]\n",
      " [-28.801569 ]\n",
      " [109.51246  ]\n",
      " [145.62419  ]\n",
      " [ -6.8239517]\n",
      " [ -0.9857705]\n",
      " [ 79.643486 ]\n",
      " [ 53.457916 ]\n",
      " [-20.200909 ]\n",
      " [ 59.44259  ]\n",
      " [-23.50866  ]\n",
      " [  5.6260667]\n",
      " [ 29.60536  ]\n",
      " [ 13.006627 ]]  b: [17.198471]  loss: 0.049136214\n",
      "Iteration: 200000  W: [[ 2.5129910e+01]\n",
      " [ 6.0626961e+01]\n",
      " [-1.7957037e+01]\n",
      " [-1.2751774e+01]\n",
      " [-2.9720739e+01]\n",
      " [ 4.3263699e+01]\n",
      " [ 5.0779495e+01]\n",
      " [-3.2608032e+01]\n",
      " [ 1.0478810e+02]\n",
      " [ 1.5572827e+02]\n",
      " [-6.7786565e+00]\n",
      " [ 1.8841503e-02]\n",
      " [ 7.0978470e+01]\n",
      " [ 5.5937008e+01]\n",
      " [-2.2469893e+01]\n",
      " [ 5.8430176e+01]\n",
      " [-2.6366541e+01]\n",
      " [ 7.6600294e+00]\n",
      " [ 3.4402496e+01]\n",
      " [ 1.6090271e+01]]  b: [14.819917]  loss: 0.008071294\n",
      "Iteration: 300000  W: [[ 26.775507  ]\n",
      " [ 58.37041   ]\n",
      " [-18.60121   ]\n",
      " [-13.085147  ]\n",
      " [-31.0851    ]\n",
      " [ 45.305374  ]\n",
      " [ 52.56688   ]\n",
      " [-34.15268   ]\n",
      " [102.85293   ]\n",
      " [159.83948   ]\n",
      " [ -6.7602143 ]\n",
      " [  0.42626554]\n",
      " [ 67.47599   ]\n",
      " [ 56.94351   ]\n",
      " [-23.389107  ]\n",
      " [ 58.01795   ]\n",
      " [-27.525124  ]\n",
      " [  8.484391  ]\n",
      " [ 36.347633  ]\n",
      " [ 17.340332  ]]  b: [13.8523245]  loss: 0.0013205161\n",
      "Iteration: 400000  W: [[ 27.444109 ]\n",
      " [ 57.45854  ]\n",
      " [-18.864204 ]\n",
      " [-13.219874 ]\n",
      " [-31.642296 ]\n",
      " [ 46.135174 ]\n",
      " [ 53.28916  ]\n",
      " [-34.779766 ]\n",
      " [102.064095 ]\n",
      " [161.51128  ]\n",
      " [ -6.751557 ]\n",
      " [  0.5918814]\n",
      " [ 66.04801  ]\n",
      " [ 57.35563  ]\n",
      " [-23.759724 ]\n",
      " [ 57.85432  ]\n",
      " [-27.996296 ]\n",
      " [  8.819185 ]\n",
      " [ 37.13427  ]\n",
      " [ 17.848991 ]]  b: [13.459211]  loss: 0.00021300939\n",
      "Iteration: 500000  W: [[ 27.70336  ]\n",
      " [ 57.08703  ]\n",
      " [-18.966331 ]\n",
      " [-13.277331 ]\n",
      " [-31.861532 ]\n",
      " [ 46.46989  ]\n",
      " [ 53.57294  ]\n",
      " [-35.02273  ]\n",
      " [101.81672  ]\n",
      " [162.11641  ]\n",
      " [ -6.752954 ]\n",
      " [  0.6542274]\n",
      " [ 65.4952   ]\n",
      " [ 57.499138 ]\n",
      " [-23.905256 ]\n",
      " [ 57.776146 ]\n",
      " [-28.172781 ]\n",
      " [  8.948279 ]\n",
      " [ 37.455418 ]\n",
      " [ 18.04927  ]]  b: [13.314975]  loss: 4.008119e-05\n",
      "Iteration: 600000  W: [[ 27.823206  ]\n",
      " [ 56.856617  ]\n",
      " [-18.998339  ]\n",
      " [-13.293046  ]\n",
      " [-31.983583  ]\n",
      " [ 46.588814  ]\n",
      " [ 53.663807  ]\n",
      " [-35.057827  ]\n",
      " [101.79744   ]\n",
      " [162.26393   ]\n",
      " [ -6.747085  ]\n",
      " [  0.68729013]\n",
      " [ 65.385994  ]\n",
      " [ 57.5365    ]\n",
      " [-23.963514  ]\n",
      " [ 57.725365  ]\n",
      " [-28.284357  ]\n",
      " [  9.009254  ]\n",
      " [ 37.574215  ]\n",
      " [ 18.139128  ]]  b: [13.276329]  loss: 1.3946427e-05\n",
      "Iteration: 700000  W: [[ 27.932886 ]\n",
      " [ 56.759106 ]\n",
      " [-19.038994 ]\n",
      " [-13.272656 ]\n",
      " [-32.055172 ]\n",
      " [ 46.62228  ]\n",
      " [ 53.68227  ]\n",
      " [-35.147087 ]\n",
      " [101.803635 ]\n",
      " [162.32196  ]\n",
      " [ -6.7173524]\n",
      " [  0.7325457]\n",
      " [ 65.34646  ]\n",
      " [ 57.535538 ]\n",
      " [-24.005978 ]\n",
      " [ 57.66646  ]\n",
      " [-28.327099 ]\n",
      " [  9.057881 ]\n",
      " [ 37.60567  ]\n",
      " [ 18.23789  ]]  b: [13.25972]  loss: 6.0893713e-06\n",
      "Iteration: 800000  W: [[ 27.995012 ]\n",
      " [ 56.708263 ]\n",
      " [-19.062157 ]\n",
      " [-13.259305 ]\n",
      " [-32.109875 ]\n",
      " [ 46.63107  ]\n",
      " [ 53.68853  ]\n",
      " [-35.201794 ]\n",
      " [101.81949  ]\n",
      " [162.34145  ]\n",
      " [ -6.695149 ]\n",
      " [  0.7680075]\n",
      " [ 65.33031  ]\n",
      " [ 57.524323 ]\n",
      " [-24.02914  ]\n",
      " [ 57.63016  ]\n",
      " [-28.353884 ]\n",
      " [  9.110838 ]\n",
      " [ 37.615524 ]\n",
      " [ 18.295208 ]]  b: [13.253099]  loss: 3.4255208e-06\n",
      "Iteration: 900000  W: [[ 28.007395 ]\n",
      " [ 56.680782 ]\n",
      " [-19.07722  ]\n",
      " [-13.263897 ]\n",
      " [-32.142326 ]\n",
      " [ 46.637367 ]\n",
      " [ 53.689125 ]\n",
      " [-35.234253 ]\n",
      " [101.83386  ]\n",
      " [162.34885  ]\n",
      " [ -6.6699977]\n",
      " [  0.8033053]\n",
      " [ 65.31999  ]\n",
      " [ 57.519745 ]\n",
      " [-24.044205 ]\n",
      " [ 57.608353 ]\n",
      " [-28.372036 ]\n",
      " [  9.172815 ]\n",
      " [ 37.624798 ]\n",
      " [ 18.307589 ]]  b: [13.249947]  loss: 2.3536966e-06\n"
     ]
    }
   ],
   "source": [
    "sess = tf.Session()\n",
    "sess.run(tf.global_variables_initializer())\n",
    "for i in range(0,1000000):\n",
    "    sess.run(update, feed_dict = {x:data_x, y_:data_y})\n",
    "    if i % 100000 == 0 :\n",
    "        print('Iteration:' , i , ' W:' , sess.run(W) , ' b:' , sess.run(b), ' loss:', loss.eval(session=sess, feed_dict = {x:data_x, y_:data_y}))"
   ]
  },
  {
   "cell_type": "markdown",
   "metadata": {},
   "source": [
    "After weight training W and value b we will try to see the predicted value of the model for each of the numbers in the range [0,8].\n",
    "<br>After we draw them on a graph, the value of 8 appears to be below 0, but the values between 1 and 7 appear to be correct. This means that the system has learned to predict only values in the range that was in practice, but what was not in the training model does not know at all predict.\n",
    "\n",
    "Now it is possible to visualize the effects of over-fitting.\n",
    "\n",
    "<a id='example_over_fitting'></a>"
   ]
  },
  {
   "cell_type": "code",
   "execution_count": 13,
   "metadata": {},
   "outputs": [
    {
     "data": {
      "image/png": "[encoded data removed]",
      "text/plain": [
       "<Figure size 432x288 with 1 Axes>"
      ]
     },
     "metadata": {},
     "output_type": "display_data"
    }
   ],
   "source": [
    "x_axis = np.arange(0, 8, 0.1)\n",
    "x_data = []\n",
    "for i in x_axis:\n",
    "    x_data.append(vecto(i)) \n",
    "x_data = np.array(x_data)\n",
    "y_vals = np.matmul(x_data, sess.run(W)) + sess.run(b)\n",
    "\n",
    "plt.plot(x_axis, y_vals)\n",
    "plt.show()"
   ]
  },
  {
   "cell_type": "markdown",
   "metadata": {},
   "source": [
    "To avoid the problem of over-fitting we will want to find the right balance between the amount of training and predicting the results.\n",
    "<br>That is, not to train too little or to train too much.\n",
    "\n",
    "As can be seen in the picture below, we would like to find the minimum \"Test sample\".\n",
    "\n",
    "<img src=\"Train_Test_Error.png\" width=\"500px\"/>\n",
    "\n",
    "[Credit](https://gerardnico.com/data_mining/overfitting)"
   ]
  },
  {
   "cell_type": "markdown",
   "metadata": {},
   "source": [
    "[^ contents](#contents)\n",
    "## Regularization\n",
    "<a id='regularization'></a>"
   ]
  },
  {
   "cell_type": "markdown",
   "metadata": {},
   "source": [
    "In order to deal with over-fitting there are several methods ([link](https://elitedatascience.com/overfitting-in-machine-learning#how-to-prevent)).\n",
    "<br>We will now look at several methods."
   ]
  },
  {
   "cell_type": "markdown",
   "metadata": {},
   "source": [
    "[^ contents](#contents)\n",
    "### Lasso and Ridge\n",
    "<a id='lasso_ridge'></a>"
   ]
  },
  {
   "cell_type": "markdown",
   "metadata": {},
   "source": [
    "This method is to change the loss function.\n",
    "<br>This method has two ways, one of Lasso and the other of Ridge.\n",
    "* <b>Lasso:</b> more aggressive towards smaller weights, so many end-up zero.\n",
    "<br>$ J(w,b) = (\\frac{1}{2m} * \\sum_{i=1}^{m} (Wx_i + b - y_i)^2)+\\lambda{||W||}_2 $.\n",
    "<br>where $ {||W||}_p = (\\sum_{i=1}^{k} |w_i|^p)^{\\frac{1}{p}} $\n",
    "* <b>Ridge:</b> more aggressive towards bigger weights, many weights may end-up being small, but not zero.\n",
    "<br>$ J(w,b) = (\\frac{1}{2m} * \\sum_{i=1}^{m} (Wx_i + b - y_i)^2)+\\frac{\\lambda}{2}({||W||}_2)^2 $.\n",
    "<br>where $ {||W||}_p = (\\sum_{i=1}^{k} |w_i|^p)^{\\frac{1}{p}} $\n",
    "\n",
    "In order for RIDGE to work we need to change the loss function to \n",
    "<br>loss = tf.reduce_mean(tf.pow(y - y_, 2)) + 0.1\\*tf.nn.l2_loss(W)\n",
    "<br>Note: tf.nn.l2_loss(W) = tf.reduce_sum(W**2)/2.\n",
    "\n",
    "In the equation of Lasso there is a problem with the derivation because there is an absolute value in his lust, which makes it harder for us to cut and therefore we will use another method to realize his code."
   ]
  },
  {
   "cell_type": "code",
   "execution_count": 14,
   "metadata": {},
   "outputs": [],
   "source": [
    "from sklearn import linear_model\n",
    "import numpy as np\n",
    "import matplotlib.pyplot as plt\n",
    "\n",
    "def vecto(x):\n",
    "    ret = []\n",
    "    for i in range(1,21):\n",
    "        ret.append(x**i / 7.**i)\n",
    "    return ret"
   ]
  },
  {
   "cell_type": "markdown",
   "metadata": {},
   "source": [
    "Displaying an array of weights"
   ]
  },
  {
   "cell_type": "code",
   "execution_count": 15,
   "metadata": {},
   "outputs": [
    {
     "name": "stdout",
     "output_type": "stream",
     "text": [
      "[  0.         221.82464187 236.00210045  54.74659255   0.\n",
      "   0.           0.           0.           0.          -0.\n",
      "  -0.          -0.          -0.          -0.          -0.\n",
      "  -0.          -0.          -0.          -0.          -8.49251129]\n"
     ]
    }
   ],
   "source": [
    "clf = linear_model.Lasso(alpha=0.1)\n",
    "\n",
    "clf.fit([vecto(2), vecto(3), vecto(4), vecto(6), vecto(7)], [70,110,165,390,550])\n",
    "\n",
    "print(clf.coef_)"
   ]
  },
  {
   "cell_type": "markdown",
   "metadata": {},
   "source": [
    "The graph looks with less over-fitting than the graph [above](#example_over_fitting) with 20 features."
   ]
  },
  {
   "cell_type": "code",
   "execution_count": 16,
   "metadata": {},
   "outputs": [
    {
     "data": {
      "image/png": "[encoded data removed]",
      "text/plain": [
       "<Figure size 432x288 with 1 Axes>"
      ]
     },
     "metadata": {},
     "output_type": "display_data"
    }
   ],
   "source": [
    "x_axis = np.arange(0,8,0.1)\n",
    "x_data=[]\n",
    "\n",
    "for i in x_axis:\n",
    "    x_data.append(vecto(i))\n",
    "    \n",
    "x_data = np.array(x_data)\n",
    "\n",
    "clf.predict([vecto(1),vecto(2)])\n",
    "\n",
    "y_vals = clf.predict(x_data)\n",
    "\n",
    "plt.plot(x_axis, y_vals)\n",
    "plt.show()"
   ]
  },
  {
   "cell_type": "markdown",
   "metadata": {},
   "source": [
    "[^ contents](#contents)\n",
    "### Early Stopping\n",
    "<a id='early_stopping'></a>"
   ]
  },
  {
   "cell_type": "markdown",
   "metadata": {},
   "source": [
    "A second method looks for the minimum of the loss function, which is checked for the validation, every few epocks and saves the votes that give this minimum.\n",
    "<br>At the end of the run we will return to the minimum we found during the run and take the weights of the model that gave us this good result, the minimum of the loss function.\n",
    "\n",
    "<img src=\"The_early_stopping_criterion.png\" width=\"550px\"/>\n",
    "[Credit](https://www.researchgate.net/profile/Giuseppina_Gini/publication/4310358/figure/fig2/AS:279627110076459@1443679706731/The-early-stopping-criterion.png)"
   ]
  },
  {
   "cell_type": "markdown",
   "metadata": {},
   "source": [
    "[^ Contents](#contents)\n",
    "## Normalization\n",
    "<a id='normalization'></a>"
   ]
  },
  {
   "cell_type": "markdown",
   "metadata": {},
   "source": [
    "When we use numbers as features, then there may be a problem that the numbers are too large because the weights will be affected.\n",
    "\n",
    "So we want to normalize the features. There are two ways to normalize:\n",
    "1. The simple way is to divide all the numbers with the largest value, so we always get numbers that are in the range [-1,1].\n",
    "2. We subtract the mean number from each number and divide by their standard deviation."
   ]
  },
  {
   "cell_type": "markdown",
   "metadata": {},
   "source": [
    "[^ Contents](#contents)\n",
    "# Logistic Regression\n",
    "<a id='logistic_regression'></a>"
   ]
  },
  {
   "cell_type": "markdown",
   "metadata": {},
   "source": [
    "Another type of problems we focus on now is classification.\n",
    "<br>In this type of problem we will obtain information that is divided again into X and Y, where X is the features and Y is the X classes.\n",
    "<br>That is we will want to predict the class of $ x_i $.\n",
    "<br>For example, there are two types of circles, black and white, with different features.\n",
    "<br>Then we want each new circle we have not seen before and we see its features now for the first time we know whether it is black or white.\n",
    "\n",
    "Logistic regression solves only classification problems that there are only two classes.\n",
    "<br>Suppose that one class 0 and 1 this second class.\n",
    "<br>According to the assumption we will have to actually find a function that gives values in the range [0,1].\n",
    "\n",
    "We will select the Sigmoid function, and in our case it will look like this $ h(x) =  \\dfrac{1}{1 + e^{-(xW+b)}} $\n",
    "\n",
    "A prediction of 1 will mean that we are certain that the value is 1.\n",
    "<br>We want to make the following two equations exist:\n",
    "1. $ p(y_i = 1|x_i;W,b) = h(x_i) $\n",
    "2. $ p(y_i = 0|x_i;W,b) = 1 - h(x_i) $\n",
    "\n",
    "In general, we want that $ p(y_i|x_i;W,b) = {h(x_i)}^{y_i}(1 - h(x_i))^{1 - y_i} $. We can see that this equation is correct when we set y to 0 or 1. "
   ]
  },
  {
   "cell_type": "markdown",
   "metadata": {},
   "source": [
    "[^ contents](#contents)\n",
    "## Motivation To Loss Function\n",
    "<a id='motivation_to_loss_function_logistic'></a>"
   ]
  },
  {
   "cell_type": "markdown",
   "metadata": {},
   "source": [
    "We want to maximize the probability  $ p(y|x;w,b) $ to say that the probability of getting yi given $x_i, w, n$ is the highest, which means that the data we received is the most likely, and not that it is reasonable but with a lot of noise.\n",
    "\n",
    "$$ p(y|x;w,b) = \\prod_{i=1}^{m} p(y_i|x_i;w,b) = \\prod_{i=1}^{m}  {h(x_i)}^{y_i}(1 - h(x_i))^{1 - y_i} $$\n",
    "\n",
    "We will apply log on both wings.\n",
    "\n",
    "$$ log(p(y|x;w,b)) = log\\left(\\prod_{i=1}^{m}  {h(x_i)}^{y_i}(1 - h(x_i))^{1 - y_i}\\right) = \\sum_{i=1}^{m} log\\left( {h(x_i)}^{y_i}(1 - h(x_i))^{1 - y_i}\\right) = \\sum_{i=1}^{m} {y_i log(h(x_i)) + (1 - y_i) log(1 - h(x_i)))} $$\n",
    "\n",
    "$$ J(W,b) = -\\frac{1}{m}\\sum_{i=1}^{m} {y_i log(h(x_i)) + (1 - y_i) log(1 - h(x_i)))} $$"
   ]
  },
  {
   "cell_type": "markdown",
   "metadata": {},
   "source": [
    "[^ contents](#contents)\n",
    "## Gradient Descent\n",
    "<a id='gradient_descent_logistic'></a>"
   ]
  },
  {
   "cell_type": "markdown",
   "metadata": {},
   "source": [
    "Note: The derivative of the Sigmoid function $ h'(x) = \\left(\\dfrac{1}{1 + e^{-(xW+b)}}\\right)' = h(x)(1-h(x)) $\n",
    "\n",
    "$ \\frac{\\partial J}{\\partial w_i} = ... = \\frac{1}{m} \\sum_{i=1}^{m} {(y_i - h(x_i))*x_{i,j}} $\n",
    "\n",
    "We get exact same gradient $ \\frac{1}{m} \\sum_{i=1}^{m} x_{i}{(h(x_i) - y_i)} $"
   ]
  },
  {
   "cell_type": "markdown",
   "metadata": {},
   "source": [
    "[^ contents](#contents)\n",
    "## Example Of Classification\n",
    "<a id='example_of_classification'></a>"
   ]
  },
  {
   "cell_type": "markdown",
   "metadata": {},
   "source": [
    "We will show code as an example of classification, the example will be classifying a text message to urgent / non-urgent, based on its words.\n",
    "\n",
    "In order to present the solution, we will bring some explanations.\n",
    "\n",
    "<a id='bag_of_words'></a>\n",
    "\n",
    "When we have a very large database with lots of features and all $x_i$ has only some features and we want to know what features are in each of $x_i$, then the method is to create an array the size of the features and mark 1 in the index $i$ to say that feature $i$ is in $x_i$, twice we will write 2, etc. This method is called Bag-of-Words Model.\n",
    "\n",
    "We will use this method even when we have a dataset of sentences and want to know which word appears in each sentence and how many times it appears in the sentence, we will build an array the size of the number of quantity different words together in sentences."
   ]
  },
  {
   "cell_type": "code",
   "execution_count": 17,
   "metadata": {},
   "outputs": [],
   "source": [
    "import nltk\n",
    "from nltk.stem import PorterStemmer\n",
    "from nltk.tokenize import word_tokenize\n",
    "\n",
    "import tensorflow as tf\n",
    "\n",
    "import numpy as np"
   ]
  },
  {
   "cell_type": "code",
   "execution_count": 18,
   "metadata": {},
   "outputs": [],
   "source": [
    "vocabulary_size = 0 #can use \"global\" keyword\n",
    "word2location = {}\n",
    "ps = PorterStemmer()\n",
    "\n",
    "def prepare_vocabulary(data):\n",
    "    idx = 0\n",
    "    for sentence in data:\n",
    "        for word in word_tokenize(sentence):\n",
    "            if ps.stem(word) not in word2location:\n",
    "                word2location[word] = idx\n",
    "                idx += 1      \n",
    "    return idx\n",
    "\n",
    "def convert2vec(sentence):\n",
    "    res_vec = np.zeros(vocabulary_size)\n",
    "    for word in word_tokenize(sentence):\n",
    "        stemmer = ps.stem(word)\n",
    "        if stemmer in word2location:\n",
    "            res_vec[word2location[stemmer]] += 1\n",
    "    return res_vec"
   ]
  },
  {
   "cell_type": "code",
   "execution_count": 19,
   "metadata": {},
   "outputs": [],
   "source": [
    "data = [\"Where are you? I'm trying to reach you for half an hour already, contact me ASAP I need to leave now!\",\n",
    "        \"I want to go out for lunch, let me know in the next couple of minutes if you would like to join.\", \n",
    "        \"I was wondering whether you are planning to  attend the party we are having next month.\", \n",
    "        \"I wanted to share my thoughts with you.\"]\n",
    "vocabulary_size = prepare_vocabulary(data)"
   ]
  },
  {
   "cell_type": "code",
   "execution_count": 20,
   "metadata": {},
   "outputs": [
    {
     "name": "stdout",
     "output_type": "stream",
     "text": [
      "[0. 0. 1. 0. 1. 0. 0. 2. 0. 1. 0. 0. 0. 0. 1. 0. 1. 0. 0. 0. 0. 0. 1. 1.\n",
      " 1. 1. 1. 1. 1. 1. 1. 0. 1. 0. 1. 1. 1. 1. 1. 0. 0. 0. 0. 0. 0. 0. 0. 0.\n",
      " 0. 0. 0. 0.]\n"
     ]
    }
   ],
   "source": [
    " print(convert2vec(data[1])) # \"I want to go out for lunch, let me know in the next couple of minutes if you would like to join.\""
   ]
  },
  {
   "cell_type": "code",
   "execution_count": 21,
   "metadata": {},
   "outputs": [],
   "source": [
    "features = vocabulary_size\n",
    "eps = 1e-12\n",
    "x = tf.placeholder(tf.float32, [None, features])\n",
    "y_ = tf.placeholder(tf.float32, [None, 1])\n",
    "W = tf.Variable(tf.zeros([features,1]))\n",
    "b = tf.Variable(tf.zeros([1]))"
   ]
  },
  {
   "cell_type": "markdown",
   "metadata": {},
   "source": [
    "Adding an epsilon is required especially because we have W = 0 and b = 0, and the log function should not receive 0."
   ]
  },
  {
   "cell_type": "code",
   "execution_count": 22,
   "metadata": {
    "scrolled": true
   },
   "outputs": [],
   "source": [
    "y = 1 / (1.0 + tf.exp(-(tf.matmul(x,W) + b)))\n",
    "loss1 = -(y_ * tf.log(y + eps) + (1 - y_) * tf.log(1-y + eps))\n",
    "loss = tf.reduce_mean(loss1)\n",
    "update = tf.train.GradientDescentOptimizer(0.00001).minimize(loss)"
   ]
  },
  {
   "cell_type": "markdown",
   "metadata": {},
   "source": [
    "x_data is the display of the output \"convert2vec\" for each sentence.\n",
    "<br>y_data is the urgent / non-urgent type of sentence where 1 is urgent and 0 is non-urgent"
   ]
  },
  {
   "cell_type": "code",
   "execution_count": 23,
   "metadata": {},
   "outputs": [],
   "source": [
    "data_x = np.array([convert2vec(data[0]), convert2vec(data[1]), convert2vec(data[2]), convert2vec(data[3])])\n",
    "data_y = np.array([[1],[1],[0],[0]])"
   ]
  },
  {
   "cell_type": "code",
   "execution_count": 24,
   "metadata": {},
   "outputs": [],
   "source": [
    "sess = tf.Session()\n",
    "sess.run(tf.global_variables_initializer())\n",
    "for i in range(0,10000):\n",
    "    sess.run(update, feed_dict = {x:data_x, y_:data_y})"
   ]
  },
  {
   "cell_type": "markdown",
   "metadata": {},
   "source": [
    "After we created the program that learns to identify the types of sentences, now we will try to examine its results.\n",
    "\n",
    "In order for the model to work with high accuracy, of course, the dataset is much larger."
   ]
  },
  {
   "cell_type": "code",
   "execution_count": 25,
   "metadata": {},
   "outputs": [
    {
     "name": "stdout",
     "output_type": "stream",
     "text": [
      "Prediction for: \"I need you now! Please answer ASAP!\" 0.5164009006873241\n"
     ]
    }
   ],
   "source": [
    "def logistic_fun(z):\n",
    "    return 1/(1.0 + np.exp(-z))\n",
    "\n",
    "test1 = \"I need you now! Please answer ASAP!\"\n",
    "\n",
    "#pdb.set_trace()\n",
    "print('Prediction for: \"' + test1 + '\"', logistic_fun(np.matmul(np.array([convert2vec(test1)]),sess.run(W)) + sess.run(b))[0][0])"
   ]
  },
  {
   "cell_type": "markdown",
   "metadata": {},
   "source": [
    "[^ contents](#contents)\n",
    "## The Quality Of The Classifier\n",
    "<a id='the_quality_of_the_classifier'></a>"
   ]
  },
  {
   "cell_type": "markdown",
   "metadata": {},
   "source": [
    "There are several indices for checking the accuracy of a classifier.\n",
    "Each indice shows the accuracy of another field.\n",
    "\n",
    "We can understand the metrics by the following table:\n",
    "<img src=\"Accuracy_table.png\" width=\"550px\"/>\n",
    "\n",
    "The indices are:\n",
    "\n",
    "1. Accuracy = $\\frac{Trues}{All}$: $\\frac{True Positive + True Negative}{True Positive + True Negative + False Negative + False Positive}$\n",
    "2. Recall = What fraction of positives did we actually find: $\\frac{True Positive}{True Positive + False Negative}$\n",
    "3. Precision = If we say positive, how precise are we: $\\frac{True Positive}{True Positive + False Positive}$\n",
    "4. F-Measure: $2\\frac{Precision * Recall}{Precision + Recall}$"
   ]
  },
  {
   "cell_type": "markdown",
   "metadata": {},
   "source": [
    "[^ contents](#contents)\n",
    "## Imbalanced Data\n",
    "<a id='imbalanced_data'></a>"
   ]
  },
  {
   "cell_type": "markdown",
   "metadata": {},
   "source": [
    "One of the difficulties in creating a valid dataset is to create it so that the data is balanced so there will be few examples from one class and much from another.\n",
    "<br>But even if we devoured an unbalanced dataset we could use it.\n",
    "<br>We'll show some solutions how to use it correctly.\n",
    "<br>For the convenience of the explanation it is said that there is 1% class and 99% of the second class.\n",
    "(Note: all the numbers shown for the imbalance are spoken after the division into the train and test, if not then divided into a train and a test, where each of the data for each class is divided by the example of 7:3.)\n",
    "1. Compare the amount of data from each class by taking each class as much information as the class information with the least amount of information.\n",
    "2. Each epoch will take 1% randomly from the 99% and actually we will have 1% of the first class and 1% of the second class.\n",
    "3. Divide 99% to 99 times 1% and each of them attach the 1% of the small class.\n",
    "4. In this method, we will not change the dataset structure, but we will change our attitude toward predictive errors for examples of the small class, ie we will \"penalize\" the model more strongly for predicting error in the small class."
   ]
  },
  {
   "cell_type": "markdown",
   "metadata": {},
   "source": [
    "[^ contents](#contents)\n",
    "## Multiple Classes (SoftMax)\n",
    "<a id='multiple_classes'></a>"
   ]
  },
  {
   "cell_type": "markdown",
   "metadata": {},
   "source": [
    "So far, we have been dealing with classifications that have two departments, but we do not always have only two departments. Sometimes we have more, but we still want to classify the departments.\n",
    "<br>So far, we have been dealing with classifications that have two departments, but we do not always have only two departments. \n",
    "<br>Sometimes we have more, but we still want to classify the departments.\n",
    "<br>For example, if we have 4 classes A, B, C, D and we have an object that belongs to class C, then we say [0,0,1,0]\n",
    "\n",
    "Given $x_i$, we would like to know which class it belongs to, so we will use the following formula and check the result for each department and select the class with the maximum value.\n",
    "\n",
    "$$ h(y = i|x) = \\frac{e^{x^TW_i+b_i}}{\\sum_{j=1}^{k} {e^{x^TW_j+b_j}}} $$\n",
    "\n",
    "Where: $ x $ is an array that represents all the values of the features of $ x $,\n",
    "<br> $ W_i $ is one line from the $W$ matrix.\n",
    "The columns of matrix $W$ represent the features and the rows represent the classes.\n",
    "Ie $W_{i,j}$ represents the weight of feature $i$ in class $j$\n",
    "\n",
    "Note: $ \\sum_{i\\in\\{1,2,...,k-1\\}} {h(y = i|x)} = 1 $\n",
    "<br>Note: W is a matrix where each row is a class and each column is a property.\n",
    "<br>Note: Logistic regression is a private case of softmax, which means softmax that has only two classes.\n",
    "\n",
    "The loss function of softmax is: loss = -tf.reduce_mean(y_*tf.log(y)), where y_ and y are both vectors.\n",
    "\n",
    "Now look at an example of using softmax:"
   ]
  },
  {
   "cell_type": "markdown",
   "metadata": {},
   "source": [
    "[^ contents](#contents)\n",
    "## Example - SMS Classification\n",
    "<a id='example_sms_classification'></a>"
   ]
  },
  {
   "cell_type": "markdown",
   "metadata": {},
   "source": [
    "We present a program that classifies SMS messages into three different departments\n",
    "* Finance\n",
    "* Work\n",
    "* Family & Friends\n",
    "\n",
    "We will use Bag-of-Words Model."
   ]
  },
  {
   "cell_type": "code",
   "execution_count": 26,
   "metadata": {},
   "outputs": [],
   "source": [
    "import nltk\n",
    "from nltk.stem import PorterStemmer\n",
    "from nltk.tokenize import word_tokenize\n",
    "\n",
    "import tensorflow as tf\n",
    "\n",
    "import numpy as np"
   ]
  },
  {
   "cell_type": "code",
   "execution_count": 27,
   "metadata": {},
   "outputs": [],
   "source": [
    "vocabulary_size = 0 #can use \"global\" keyword\n",
    "word2location = {}\n",
    "ps = PorterStemmer()\n",
    "\n",
    "def prepare_vocabulary(data):\n",
    "    idx = 0\n",
    "    for sentence in data:\n",
    "        for word in word_tokenize(sentence):\n",
    "            if ps.stem(word) not in word2location:\n",
    "                word2location[word] = idx\n",
    "                idx += 1      \n",
    "    return idx\n",
    "\n",
    "def convert2vec(sentence):\n",
    "    res_vec = np.zeros(vocabulary_size)\n",
    "    for word in word_tokenize(sentence):\n",
    "        stemmer = ps.stem(word)\n",
    "        if stemmer in word2location:\n",
    "            res_vec[word2location[stemmer]] += 1\n",
    "    return res_vec"
   ]
  },
  {
   "cell_type": "markdown",
   "metadata": {},
   "source": [
    "Counting the number of features, that is, the amount of words in a dictionary."
   ]
  },
  {
   "cell_type": "code",
   "execution_count": 28,
   "metadata": {},
   "outputs": [],
   "source": [
    "data = [\n",
    "\t\"Your auto payment of $50 was charges successfully!\", \n",
    "\t\"You have received a refund of $20\", \n",
    "\t\"Please complete your power point presentation by tomorrow.\", \n",
    "\t\"You must arrive on time tomorrow, otherwise the manager will want to talk to you\",\n",
    "\t\"How about celebrating Bob's birthday party next week?\", \n",
    "\t\"Everyone is waiting for you at home, please come home early!\"]\n",
    "vocabulary_size = prepare_vocabulary(data)"
   ]
  },
  {
   "cell_type": "markdown",
   "metadata": {},
   "source": [
    "The training phase of the model"
   ]
  },
  {
   "cell_type": "code",
   "execution_count": 29,
   "metadata": {},
   "outputs": [],
   "source": [
    "features = vocabulary_size\n",
    "categories = 3\n",
    "x = tf.placeholder(tf.float32, [None, features])\n",
    "y_ = tf.placeholder(tf.float32, [None, categories])\n",
    "W = tf.Variable(tf.zeros([features,categories]))\n",
    "b = tf.Variable(tf.zeros([categories])) # One b for each class\n",
    "\n",
    "y = tf.nn.softmax(tf.matmul(x, W) + b)\n",
    "loss = -tf.reduce_mean(y_*tf.log(y))\n",
    "\n",
    "update = tf.train.GradientDescentOptimizer(0.00001).minimize(loss)"
   ]
  },
  {
   "cell_type": "markdown",
   "metadata": {},
   "source": [
    "Create the data for training as [above](#bag_of_words)"
   ]
  },
  {
   "cell_type": "code",
   "execution_count": 30,
   "metadata": {},
   "outputs": [],
   "source": [
    "data_x = np.array([convert2vec(data[i]) for i in range(len(data))])\n",
    "data_y = np.array([[1,0,0],[1,0,0],[0,1,0],[0,1,0],[0,0,1],[0,0,1]])\n",
    "\n",
    "sess = tf.Session()\n",
    "sess.run(tf.global_variables_initializer())\n",
    "for i in range(0,10000):\n",
    "    sess.run(update, feed_dict = {x:data_x, y_:data_y})"
   ]
  },
  {
   "cell_type": "markdown",
   "metadata": {},
   "source": [
    "The testing phase of the model"
   ]
  },
  {
   "cell_type": "code",
   "execution_count": 31,
   "metadata": {},
   "outputs": [
    {
     "name": "stdout",
     "output_type": "stream",
     "text": [
      "\n",
      "Prediction for: \"Your payment has been received, no refund is currently available.: \" [[0.33395392 0.3339286  0.33211747]]\n",
      "\n",
      "Prediction for: \"The manager said that your presentation went well, but next time make sure to arrive on time.: \" [[0.32783738 0.34251705 0.32964554]]\n",
      "\n",
      "Prediction for: \"We are all waiting for you at the birthday party!: \" [[0.33090654 0.33267376 0.3364197 ]]\n"
     ]
    }
   ],
   "source": [
    "test1 = \"Your payment has been received, no refund is currently available.\"\n",
    "test2 = \"The manager said that your presentation went well, but next time make sure to arrive on time.\"\n",
    "test3 = \"We are all waiting for you at the birthday party!\"\n",
    "\n",
    "print('\\nPrediction for: \"' + test1 + ': \"', sess.run(y, feed_dict={x:[convert2vec(test1)]}))\n",
    "print('\\nPrediction for: \"' + test2 + ': \"', sess.run(y, feed_dict={x:[convert2vec(test2)]}))\n",
    "print('\\nPrediction for: \"' + test3 + ': \"', sess.run(y, feed_dict={x:[convert2vec(test3)]}))"
   ]
  },
  {
   "cell_type": "markdown",
   "metadata": {},
   "source": [
    "IMPORTANT NOTE: Because the computer can only represent up to a certain level of precision, then when we want to represent a number with higher accuracy, the computer will round the numbers, that is, if we have a very close to 0 and use log on the number,\n",
    "The computer will turn the number to 0 and get we an error (since log 0 is not set).\n",
    "\n",
    "In order to deal with such problems, we will always prefer to use functions that are implemented by TensorFlow.\n",
    "* tf.nn.sigmoid(tf.matmul(x,W) + b)\n",
    "* tf.nn.sigmoid_cross_entropy_with_logits()\n",
    "* tf.nn.softmax_cross _entropy_with_logits_v2()"
   ]
  },
  {
   "cell_type": "markdown",
   "metadata": {},
   "source": [
    "[^ Contents](#contents)\n",
    "# Summary\n",
    "<a id='summary'></a>"
   ]
  },
  {
   "cell_type": "markdown",
   "metadata": {},
   "source": [
    "After we saw how to realize the logistic regression and the softmax, we now see the structure of the model that we are building visually.\n",
    "\n",
    "<br><center> <Big> Logistic Regression </Big> </center>\n",
    "<img src=\"logistic_regression.png\" width=\"400px\"/>\n",
    "\n",
    "Where activation function is sigmoid and $x_i$ is the feature $i$.\n",
    "\n",
    "<br><center> <Big> Softmax </Big> </center>\n",
    "<img src=\"softmax.png\" width=\"400px\"/>\n"
   ]
  }
 ],
 "metadata": {
  "kernelspec": {
   "display_name": "Python 3",
   "language": "python",
   "name": "python3"
  },
  "language_info": {
   "codemirror_mode": {
    "name": "ipython",
    "version": 3
   },
   "file_extension": ".py",
   "mimetype": "text/x-python",
   "name": "python",
   "nbconvert_exporter": "python",
   "pygments_lexer": "ipython3",
   "version": "3.5.2"
  }
 },
 "nbformat": 4,
 "nbformat_minor": 2
}
